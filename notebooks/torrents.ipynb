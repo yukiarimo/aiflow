{
  "nbformat": 4,
  "nbformat_minor": 0,
  "metadata": {
    "colab": {
      "provenance": []
    },
    "kernelspec": {
      "name": "python3",
      "display_name": "Python 3"
    },
    "language_info": {
      "name": "python"
    }
  },
  "cells": [
    {
      "cell_type": "markdown",
      "source": [
        "# Welcome to torrent downloader"
      ],
      "metadata": {
        "id": "D3na0mdaBlMH"
      }
    },
    {
      "cell_type": "code",
      "execution_count": null,
      "metadata": {
        "id": "oZs3WJhPaGoa"
      },
      "outputs": [],
      "source": [
        "!pip install torrentp"
      ]
    },
    {
      "cell_type": "markdown",
      "source": [
        "# Start the process"
      ],
      "metadata": {
        "id": "0o_fsjh3BooY"
      }
    },
    {
      "cell_type": "code",
      "source": [
        "!torrentp --link 'filepath.torrent' --save_path outputpath"
      ],
      "metadata": {
        "id": "0rTLU58baWyp"
      },
      "execution_count": null,
      "outputs": []
    }
  ]
}